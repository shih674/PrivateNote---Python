{
  "nbformat": 4,
  "nbformat_minor": 0,
  "metadata": {
    "colab": {
      "name": "PostgreSQL 基礎操作語法.ipynb",
      "provenance": [],
      "collapsed_sections": [],
      "authorship_tag": "ABX9TyNkiX4hxWddpPh9DX5H3JnU",
      "include_colab_link": true
    },
    "kernelspec": {
      "name": "python3",
      "display_name": "Python 3"
    }
  },
  "cells": [
    {
      "cell_type": "markdown",
      "metadata": {
        "id": "view-in-github",
        "colab_type": "text"
      },
      "source": [
        "<a href=\"https://colab.research.google.com/github/shih674/PrivateNote---Python/blob/master/PostgreSQL_%E5%9F%BA%E7%A4%8E%E6%93%8D%E4%BD%9C%E8%AA%9E%E6%B3%95.ipynb\" target=\"_parent\"><img src=\"https://colab.research.google.com/assets/colab-badge.svg\" alt=\"Open In Colab\"/></a>"
      ]
    },
    {
      "cell_type": "markdown",
      "metadata": {
        "id": "e8IB4LhrmeJL",
        "colab_type": "text"
      },
      "source": [
        "參考資料\n",
        "https://pynative.com/python-postgresql-tutorial/"
      ]
    },
    {
      "cell_type": "markdown",
      "metadata": {
        "id": "gz8X69t0ma44",
        "colab_type": "text"
      },
      "source": [
        "# 新增一筆資料到資料庫"
      ]
    },
    {
      "cell_type": "code",
      "metadata": {
        "id": "dyKtuGzVlZr8",
        "colab_type": "code",
        "colab": {
          "base_uri": "https://localhost:8080/",
          "height": 84
        },
        "outputId": "c35d2340-dd40-4174-c4c7-0b68b94c8096"
      },
      "source": [
        "import psycopg2\n",
        "\n",
        "# 變數區=== 之後自己整理到DEF\n",
        "id = 2\n",
        "userid = 'test02'\n",
        "date = '2020-08-02'\n",
        "record = 'test record02'\n",
        "# 變數區結束====================\n",
        "\n",
        "try:\n",
        "    # 連線到 postgreSQL\n",
        "    connection = psycopg2.connect(user=\"cuwrahtydenenu\",\n",
        "                  password=\"b732e630d692858fb7d8b0c2dafb30f2ae180b93cbda3f6ca29973b948a6fa6d\",\n",
        "                  host=\"ec2-35-175-155-248.compute-1.amazonaws.com\",\n",
        "                  port=\"5432\",\n",
        "                  database=\"ddudjmoheficke\")\n",
        "    cursor = connection.cursor()\n",
        "\n",
        "    # 下新增SQL指令\n",
        "    postgres_insert_query = 'INSERT INTO \"EXERCISE\"(id,userid,date,record)VALUES(%s,%s,%s,%s)'\n",
        "    record_to_insert = (id,userid, date, record)\n",
        "    cursor.execute(postgres_insert_query, record_to_insert)\n",
        "    connection.commit()\n",
        "    \n",
        "    count = cursor.rowcount\n",
        "    print (count, \"Record inserted successfully into mobile table\")\n",
        "\n",
        "\n",
        "except (Exception, psycopg2.Error) as error :\n",
        "    print (\"Error while fetching data from PostgreSQL\", error)\n",
        "\n",
        "finally:\n",
        "    #closing database connection.\n",
        "    if(connection):\n",
        "        cursor.close()\n",
        "        connection.close()\n",
        "        print(\"\\n------------------------------\\nPostgreSQL connection is closed\")"
      ],
      "execution_count": null,
      "outputs": [
        {
          "output_type": "stream",
          "text": [
            "1 Record inserted successfully into mobile table\n",
            "\n",
            "------------------------------\n",
            "PostgreSQL connection is closed\n"
          ],
          "name": "stdout"
        }
      ]
    },
    {
      "cell_type": "markdown",
      "metadata": {
        "id": "WvvjKyzMlaRz",
        "colab_type": "text"
      },
      "source": [
        "# 查詢所有資料"
      ]
    },
    {
      "cell_type": "code",
      "metadata": {
        "id": "hz9lp5UElDXg",
        "colab_type": "code",
        "colab": {
          "base_uri": "https://localhost:8080/",
          "height": 168
        },
        "outputId": "68fd71af-afe1-4389-e37e-ffff6f7b36bd"
      },
      "source": [
        "import psycopg2\n",
        "\n",
        "try:\n",
        "    # 連線到 postgreSQL\n",
        "   connection = psycopg2.connect(user=\"cuwrahtydenenu\",\n",
        "                  password=\"b732e630d692858fb7d8b0c2dafb30f2ae180b93cbda3f6ca29973b948a6fa6d\",\n",
        "                  host=\"ec2-35-175-155-248.compute-1.amazonaws.com\",\n",
        "                  port=\"5432\",\n",
        "                  database=\"ddudjmoheficke\")\n",
        "   cursor = connection.cursor()\n",
        "\n",
        "    # 下搜尋SQL指令\n",
        "   postgreSQL_select_Query = 'select * from \"EXERCISE\"'\n",
        "    # EXECUTE\n",
        "   cursor.execute(postgreSQL_select_Query)\n",
        "   print(\"Selecting rows from EXERCISE table using cursor.fetchall\")\n",
        "    # FETCH ALL\n",
        "   mobile_records = cursor.fetchall() \n",
        "   \n",
        "   print(\"Print each row and it's columns values\\n------------------------------\")\n",
        "   # 把抓回來的資料一行一行印出來檢查\n",
        "   for row in mobile_records:\n",
        "       print(\"Id = \", row, )\n",
        "\n",
        "\n",
        "except (Exception, psycopg2.Error) as error :\n",
        "    print (\"Error while fetching data from PostgreSQL\", error)\n",
        "\n",
        "finally:\n",
        "    #closing database connection.\n",
        "    if(connection):\n",
        "        cursor.close()\n",
        "        connection.close()\n",
        "        print(\"\\n------------------------------\\nPostgreSQL connection is closed\")"
      ],
      "execution_count": null,
      "outputs": [
        {
          "output_type": "stream",
          "text": [
            "Selecting rows from EXERCISE table using cursor.fetchall\n",
            "Print each row and it's columns values\n",
            "------------------------------\n",
            "Id =  (1, datetime.date(2020, 8, 1), 'test record01', 'test01')\n",
            "Id =  (3, datetime.date(2020, 6, 30), '嗨嗨', 'lisa')\n",
            "Id =  (4, datetime.date(2020, 6, 30), 'hello', 'abc')\n",
            "\n",
            "------------------------------\n",
            "PostgreSQL connection is closed\n"
          ],
          "name": "stdout"
        }
      ]
    },
    {
      "cell_type": "markdown",
      "metadata": {
        "id": "h_PIZGJ64m_C",
        "colab_type": "text"
      },
      "source": [
        "# 更新一筆資料(by id)"
      ]
    },
    {
      "cell_type": "code",
      "metadata": {
        "colab_type": "code",
        "id": "J5WOZ_Re5LIE",
        "colab": {
          "base_uri": "https://localhost:8080/",
          "height": 84
        },
        "outputId": "d6c58e5a-ab1c-4a88-e548-f02bda087c4a"
      },
      "source": [
        "import psycopg2\n",
        "\n",
        "# 變數區=== 之後自己整理到DEF\n",
        "id = 2\n",
        "userid = 'test02-1'\n",
        "date = '2020-08-03'\n",
        "record = 'test record02-1'\n",
        "# 變數區結束====================\n",
        "\n",
        "try:\n",
        "  # 連線到 postgreSQL\n",
        "  connection = psycopg2.connect(user=\"cuwrahtydenenu\",\n",
        "                password=\"b732e630d692858fb7d8b0c2dafb30f2ae180b93cbda3f6ca29973b948a6fa6d\",\n",
        "                host=\"ec2-35-175-155-248.compute-1.amazonaws.com\",\n",
        "                port=\"5432\",\n",
        "                database=\"ddudjmoheficke\")\n",
        "  cursor = connection.cursor()\n",
        "\n",
        "  # 下搜尋SQL指令\n",
        "  sql_update_query = \"\"\"Update \"EXERCISE\" SET userid = %s, date = %s, record = %s where id = %s\"\"\"\n",
        "  # EXECUTE    \n",
        "  cursor.execute(sql_update_query, (userid, date, record, id))\n",
        "  # COMMIT\n",
        "  connection.commit()\n",
        "  count = cursor.rowcount\n",
        "  print(count, \"Record Updated successfully \")\n",
        "\n",
        "\n",
        "except (Exception, psycopg2.Error) as error :\n",
        "  print(\"Error while updating PostgreSQL table\", error)\n",
        "\n",
        "\n",
        "\n",
        "finally:\n",
        "    #closing database connection.\n",
        "    if(connection):\n",
        "        cursor.close()\n",
        "        connection.close()\n",
        "        print(\"\\n------------------------------\\nPostgreSQL connection is closed\")"
      ],
      "execution_count": null,
      "outputs": [
        {
          "output_type": "stream",
          "text": [
            "1 Record Updated successfully \n",
            "\n",
            "------------------------------\n",
            "PostgreSQL connection is closed\n"
          ],
          "name": "stdout"
        }
      ]
    },
    {
      "cell_type": "markdown",
      "metadata": {
        "id": "HRsN2Tt78rdv",
        "colab_type": "text"
      },
      "source": [
        "# 刪除一筆資料(by id)"
      ]
    },
    {
      "cell_type": "code",
      "metadata": {
        "id": "shebt6c-5DxV",
        "colab_type": "code",
        "colab": {
          "base_uri": "https://localhost:8080/",
          "height": 50
        },
        "outputId": "20c6ff2d-5904-4271-cde4-525918814061"
      },
      "source": [
        "import psycopg2\n",
        "\n",
        "# 變數區=== 之後自己整理到DEF\n",
        "id = 2\n",
        "userid = 'test02-1'\n",
        "date = '2020-08-03'\n",
        "record = 'test record02-1'\n",
        "# 變數區結束====================\n",
        "\n",
        "try:\n",
        "  # 連線到 postgreSQL\n",
        "  connection = psycopg2.connect(user=\"cuwrahtydenenu\",\n",
        "                password=\"b732e630d692858fb7d8b0c2dafb30f2ae180b93cbda3f6ca29973b948a6fa6d\",\n",
        "                host=\"ec2-35-175-155-248.compute-1.amazonaws.com\",\n",
        "                port=\"5432\",\n",
        "                database=\"ddudjmoheficke\")\n",
        "  cursor = connection.cursor()\n",
        "\n",
        "\n",
        "  sql_delete_query = \"\"\"Delete from \"EXERCISE\" where id = %s\"\"\"\n",
        "  cursor.execute(sql_delete_query, (id, ))\n",
        "  connection.commit()\n",
        "  count = cursor.rowcount\n",
        "  print(count, \"Record deleted successfully \")\n",
        "\n",
        "except (Exception, psycopg2.Error) as error:\n",
        "  print(\"Error in Delete operation\", error)\n",
        "\n",
        "finally:\n",
        "  # closing database connection.\n",
        "  if (connection):\n",
        "      cursor.close()\n",
        "      connection.close()\n",
        "      print(\"PostgreSQL connection is closed\")"
      ],
      "execution_count": null,
      "outputs": [
        {
          "output_type": "stream",
          "text": [
            "1 Record deleted successfully \n",
            "PostgreSQL connection is closed\n"
          ],
          "name": "stdout"
        }
      ]
    }
  ]
}