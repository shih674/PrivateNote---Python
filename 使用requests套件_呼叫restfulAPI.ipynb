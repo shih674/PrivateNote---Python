{
  "nbformat": 4,
  "nbformat_minor": 0,
  "metadata": {
    "colab": {
      "name": "使用requests套件 呼叫restfulAPI",
      "provenance": [],
      "collapsed_sections": [],
      "authorship_tag": "ABX9TyN3aHj8xQkQl2PHK6U+7RcU",
      "include_colab_link": true
    },
    "kernelspec": {
      "name": "python3",
      "display_name": "Python 3"
    }
  },
  "cells": [
    {
      "cell_type": "markdown",
      "metadata": {
        "id": "view-in-github",
        "colab_type": "text"
      },
      "source": [
        "<a href=\"https://colab.research.google.com/github/shih674/PrivateNote---Python/blob/master/%E4%BD%BF%E7%94%A8requests%E5%A5%97%E4%BB%B6_%E5%91%BC%E5%8F%ABrestfulAPI.ipynb\" target=\"_parent\"><img src=\"https://colab.research.google.com/assets/colab-badge.svg\" alt=\"Open In Colab\"/></a>"
      ]
    },
    {
      "cell_type": "markdown",
      "metadata": {
        "id": "6388fXHvhNG1",
        "colab_type": "text"
      },
      "source": [
        "# 目錄:此篇將照此功能順序撰寫\n",
        "\n",
        "\n",
        "1. 查看資料庫內所有資料\n",
        "2. 查看資料庫內單筆資料(By id)\n",
        "3. 新增單筆資料至資料庫\n",
        "4. 更新資料庫內單筆資料(By id)\n",
        "5. 刪除資料庫內單筆資料(By id)\n"
      ]
    },
    {
      "cell_type": "code",
      "metadata": {
        "id": "CI7Hq2nqsjER",
        "colab_type": "code",
        "colab": {
          "base_uri": "https://localhost:8080/",
          "height": 35
        },
        "outputId": "92038392-1aed-473e-ff5a-a8d61f0ec41c"
      },
      "source": [
        "import requests\n",
        "import json\n",
        "url = 'https://mysqlapi674.herokuapp.com'\n",
        "res = requests.get(url)\n",
        "res.text"
      ],
      "execution_count": null,
      "outputs": [
        {
          "output_type": "execute_result",
          "data": {
            "application/vnd.google.colaboratory.intrinsic+json": {
              "type": "string"
            },
            "text/plain": [
              "'Hello World!'"
            ]
          },
          "metadata": {
            "tags": []
          },
          "execution_count": 1
        }
      ]
    },
    {
      "cell_type": "markdown",
      "metadata": {
        "id": "Nwh99p8zgLiS",
        "colab_type": "text"
      },
      "source": [
        "# 1. 查看資料庫內所有資料\n",
        "\n",
        "### 法1"
      ]
    },
    {
      "cell_type": "code",
      "metadata": {
        "id": "6F6U52SFsn-v",
        "colab_type": "code",
        "colab": {
          "base_uri": "https://localhost:8080/",
          "height": 35
        },
        "outputId": "9071716e-5932-4014-8a9a-10fd3be80675"
      },
      "source": [
        "url = 'https://mysqlapi674.herokuapp.com/restfulapi'\n",
        "res = requests.get(url)\n",
        "res.text"
      ],
      "execution_count": null,
      "outputs": [
        {
          "output_type": "execute_result",
          "data": {
            "application/vnd.google.colaboratory.intrinsic+json": {
              "type": "string"
            },
            "text/plain": [
              "'[[1, \"Marcus Allen\"], [3, \"Rajon Rondo\"], [7, \"head\"], [8, \"674\"]]'"
            ]
          },
          "metadata": {
            "tags": []
          },
          "execution_count": 2
        }
      ]
    },
    {
      "cell_type": "markdown",
      "metadata": {
        "id": "aWv_xOlIt6pR",
        "colab_type": "text"
      },
      "source": [
        "### 法2"
      ]
    },
    {
      "cell_type": "code",
      "metadata": {
        "id": "0SXxDEuWt9jV",
        "colab_type": "code",
        "colab": {
          "base_uri": "https://localhost:8080/",
          "height": 34
        },
        "outputId": "91f13ab3-48aa-4edb-a2e5-376442d84a2b"
      },
      "source": [
        "url = 'https://mysqlapi674.herokuapp.com/restfulapi'\n",
        "res = requests.get(url)\n",
        "res.json()"
      ],
      "execution_count": null,
      "outputs": [
        {
          "output_type": "execute_result",
          "data": {
            "text/plain": [
              "[[1, 'Marcus Allen'], [3, 'Rajon Rondo'], [7, 'head'], [8, '674']]"
            ]
          },
          "metadata": {
            "tags": []
          },
          "execution_count": 3
        }
      ]
    },
    {
      "cell_type": "markdown",
      "metadata": {
        "id": "jU6-v49zgdXx",
        "colab_type": "text"
      },
      "source": [
        "# 2.查看資料庫內單筆資料(By id)"
      ]
    },
    {
      "cell_type": "code",
      "metadata": {
        "id": "Id4ycd0ju6ru",
        "colab_type": "code",
        "colab": {
          "base_uri": "https://localhost:8080/",
          "height": 35
        },
        "outputId": "7c6502d5-9fb4-4970-af81-3a5b394e7187"
      },
      "source": [
        "url = 'https://mysqlapi674.herokuapp.com/restfulapi/7'\n",
        "res = requests.get(url)\n",
        "res.text"
      ],
      "execution_count": null,
      "outputs": [
        {
          "output_type": "execute_result",
          "data": {
            "application/vnd.google.colaboratory.intrinsic+json": {
              "type": "string"
            },
            "text/plain": [
              "'[7, \"head\"]'"
            ]
          },
          "metadata": {
            "tags": []
          },
          "execution_count": 4
        }
      ]
    },
    {
      "cell_type": "markdown",
      "metadata": {
        "id": "b-9QDs8OgKgR",
        "colab_type": "text"
      },
      "source": [
        "# 3.新增單筆資料至資料庫"
      ]
    },
    {
      "cell_type": "code",
      "metadata": {
        "id": "DukNrGOVtA9o",
        "colab_type": "code",
        "colab": {
          "base_uri": "https://localhost:8080/",
          "height": 35
        },
        "outputId": "14d937b8-f3b7-4dfb-8d2b-21b9a23b6a61"
      },
      "source": [
        "url = 'https://mysqlapi674.herokuapp.com/restfulapi'\n",
        "\n",
        "res = requests.post(url, json={'name':'674'})\n",
        "res.text"
      ],
      "execution_count": null,
      "outputs": [
        {
          "output_type": "execute_result",
          "data": {
            "application/vnd.google.colaboratory.intrinsic+json": {
              "type": "string"
            },
            "text/plain": [
              "'{\"result\": \"674 - \\\\u65b0\\\\u589e\\\\u6210\\\\u529f\"}'"
            ]
          },
          "metadata": {
            "tags": []
          },
          "execution_count": 5
        }
      ]
    },
    {
      "cell_type": "markdown",
      "metadata": {
        "id": "fL_lO3T_iYhz",
        "colab_type": "text"
      },
      "source": [
        "# 4.更新資料庫內單筆資料(By id)"
      ]
    },
    {
      "cell_type": "code",
      "metadata": {
        "id": "AsANTQM9wkkW",
        "colab_type": "code",
        "colab": {
          "base_uri": "https://localhost:8080/",
          "height": 35
        },
        "outputId": "6a365ce9-58b8-4c54-a11c-8e8fbb44ccdf"
      },
      "source": [
        "url = 'https://mysqlapi674.herokuapp.com/restfulapi/7'\n",
        "res = requests.put(url, json={ \"name\":\"head\" })\n",
        "res.text"
      ],
      "execution_count": null,
      "outputs": [
        {
          "output_type": "execute_result",
          "data": {
            "application/vnd.google.colaboratory.intrinsic+json": {
              "type": "string"
            },
            "text/plain": [
              "'{\"result\": \"head - \\\\u66f4\\\\u65b0\\\\u6210\\\\u529f\"}'"
            ]
          },
          "metadata": {
            "tags": []
          },
          "execution_count": 6
        }
      ]
    },
    {
      "cell_type": "markdown",
      "metadata": {
        "id": "kgUo4fkmh_53",
        "colab_type": "text"
      },
      "source": [
        "# 5.刪除資料庫內單筆資料(By id)"
      ]
    },
    {
      "cell_type": "code",
      "metadata": {
        "id": "q_cx5mirwZy-",
        "colab_type": "code",
        "colab": {
          "base_uri": "https://localhost:8080/",
          "height": 35
        },
        "outputId": "7ae71d7f-3762-4dce-c720-33d1acae1028"
      },
      "source": [
        "url = 'https://mysqlapi674.herokuapp.com/restfulapi/10'\n",
        "res = requests.delete(url)\n",
        "res.text"
      ],
      "execution_count": null,
      "outputs": [
        {
          "output_type": "execute_result",
          "data": {
            "application/vnd.google.colaboratory.intrinsic+json": {
              "type": "string"
            },
            "text/plain": [
              "'{\"result\": \"\\\\u5df2\\\\u7d93\\\\u522a\\\\u9664\\\\u4e0b\\\\u5217\\\\u8cc7\\\\u6599[10, \\'674\\', datetime.datetime(2020, 8, 1, 5, 48, 40)]\"}'"
            ]
          },
          "metadata": {
            "tags": []
          },
          "execution_count": 9
        }
      ]
    },
    {
      "cell_type": "code",
      "metadata": {
        "id": "kKtk0Yhcwhbu",
        "colab_type": "code",
        "colab": {
          "base_uri": "https://localhost:8080/",
          "height": 35
        },
        "outputId": "60f212d7-c688-4cc1-c9df-1674b3853360"
      },
      "source": [
        "url = 'https://mysqlapi674.herokuapp.com/restfulapi'\n",
        "res = requests.get(url)\n",
        "res.text"
      ],
      "execution_count": null,
      "outputs": [
        {
          "output_type": "execute_result",
          "data": {
            "application/vnd.google.colaboratory.intrinsic+json": {
              "type": "string"
            },
            "text/plain": [
              "'[[1, \"Marcus Allen\"], [3, \"Rajon Rondo\"], [7, \"head\"], [8, \"674\"]]'"
            ]
          },
          "metadata": {
            "tags": []
          },
          "execution_count": 10
        }
      ]
    },
    {
      "cell_type": "code",
      "metadata": {
        "id": "2MP_Tj8IiqcE",
        "colab_type": "code",
        "colab": {}
      },
      "source": [
        ""
      ],
      "execution_count": null,
      "outputs": []
    }
  ]
}