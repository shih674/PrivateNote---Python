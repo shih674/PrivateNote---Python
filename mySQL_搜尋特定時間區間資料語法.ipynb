{
  "nbformat": 4,
  "nbformat_minor": 0,
  "metadata": {
    "colab": {
      "name": "mySQL 搜尋特定時間區間資料語法",
      "provenance": [],
      "collapsed_sections": [],
      "authorship_tag": "ABX9TyPp6IhPg77vEm6TggYsY2+i",
      "include_colab_link": true
    },
    "kernelspec": {
      "name": "python3",
      "display_name": "Python 3"
    }
  },
  "cells": [
    {
      "cell_type": "markdown",
      "metadata": {
        "id": "view-in-github",
        "colab_type": "text"
      },
      "source": [
        "<a href=\"https://colab.research.google.com/github/shih674/PrivateNote---Python/blob/master/mySQL_%E6%90%9C%E5%B0%8B%E7%89%B9%E5%AE%9A%E6%99%82%E9%96%93%E5%8D%80%E9%96%93%E8%B3%87%E6%96%99%E8%AA%9E%E6%B3%95.ipynb\" target=\"_parent\"><img src=\"https://colab.research.google.com/assets/colab-badge.svg\" alt=\"Open In Colab\"/></a>"
      ]
    },
    {
      "cell_type": "markdown",
      "metadata": {
        "id": "rCQFnFSY8BSK"
      },
      "source": [
        "# mySQL 搜尋特定時間區間資料語法\n",
        "\n",
        "select * from `表名` where date_sub(curdate(),interval 7 day)<=date(`時間column name`);\n"
      ]
    },
    {
      "cell_type": "code",
      "metadata": {
        "id": "DFlUw8Om7qqN",
        "outputId": "54cbed9b-e6a7-4705-acab-d7558f0d68e4",
        "colab": {
          "base_uri": "https://localhost:8080/"
        }
      },
      "source": [
        "!pip install pymysql\n",
        "import pymysql\n",
        "\n",
        "try:\n",
        "    connect_database = pymysql.connect(host='your_mysql_ip', user='your_mysql_username', password='your_mysql_password', db='db_name', cursorclass=pymysql.cursors.DictCursor)\n",
        "    print(':: 成功連線mySQL')\n",
        "\n",
        "except Exception as e:\n",
        "    print('!error\\n', e)\n",
        "\n",
        "cursor = connect_database.cursor()\n",
        "cursor.execute('select * from `product_list` where  `mobile_name`=%s and `mobile_speci`=%s and date_sub(curdate(),interval 90 day)<=date(`post_time`);', ['iPhone 11', '128g'])\n",
        "\n",
        "result = cursor.fetchall()\n",
        "print('搜尋結果')\n",
        "for row in result:\n",
        "    print('= '*80)\n",
        "    print(row)\n",
        "    print('= '*80)"
      ],
      "execution_count": 4,
      "outputs": [
        {
          "output_type": "stream",
          "text": [
            "Requirement already satisfied: pymysql in /usr/local/lib/python3.6/dist-packages (0.10.1)\n",
            ":: 成功連線mySQL\n",
            "搜尋結果\n",
            "= = = = = = = = = = = = = = = = = = = = = = = = = = = = = = = = = = = = = = = = = = = = = = = = = = = = = = = = = = = = = = = = = = = = = = = = = = = = = = = = \n",
            "{'id': 334, 'post_id': 'M1595331476A9A1', 'mobile_name': 'iPhone 11', 'mobile_speci': '128g', 'sale_price': 23000, 'post_time': datetime.date(2020, 7, 21), 'post_url': 'https://www.ptt.cc/bbs/mobilesales/M.1595331476.A.9A1.html', 'post_title': '[賣/高雄/面交] iPhone 11 128G(白) '}\n",
            "= = = = = = = = = = = = = = = = = = = = = = = = = = = = = = = = = = = = = = = = = = = = = = = = = = = = = = = = = = = = = = = = = = = = = = = = = = = = = = = = \n",
            "= = = = = = = = = = = = = = = = = = = = = = = = = = = = = = = = = = = = = = = = = = = = = = = = = = = = = = = = = = = = = = = = = = = = = = = = = = = = = = = = \n",
            "{'id': 338, 'post_id': 'M1595606848A097', 'mobile_name': 'iPhone 11', 'mobile_speci': '128g', 'sale_price': 23000, 'post_time': datetime.date(2020, 7, 25), 'post_url': 'https://www.ptt.cc/bbs/mobilesales/M.1595606848.A.097.html', 'post_title': '[賣/新北/面交] iPhone 11 128G 白色'}\n",
            "= = = = = = = = = = = = = = = = = = = = = = = = = = = = = = = = = = = = = = = = = = = = = = = = = = = = = = = = = = = = = = = = = = = = = = = = = = = = = = = = \n",
            "= = = = = = = = = = = = = = = = = = = = = = = = = = = = = = = = = = = = = = = = = = = = = = = = = = = = = = = = = = = = = = = = = = = = = = = = = = = = = = = = \n",
            "{'id': 341, 'post_id': 'M1595815742A8F9', 'mobile_name': 'iPhone 11', 'mobile_speci': '128g', 'sale_price': 23000, 'post_time': datetime.date(2020, 7, 27), 'post_url': 'https://www.ptt.cc/bbs/mobilesales/M.1595815742.A.8F9.html', 'post_title': '[賣/台北/面交] iPhone 11 128g 白色（已售出）'}\n",
            "= = = = = = = = = = = = = = = = = = = = = = = = = = = = = = = = = = = = = = = = = = = = = = = = = = = = = = = = = = = = = = = = = = = = = = = = = = = = = = = = \n",
            "= = = = = = = = = = = = = = = = = = = = = = = = = = = = = = = = = = = = = = = = = = = = = = = = = = = = = = = = = = = = = = = = = = = = = = = = = = = = = = = = \n",
            "{'id': 348, 'post_id': 'M1596204977AB80', 'mobile_name': 'iPhone 11', 'mobile_speci': '128g', 'sale_price': 23000, 'post_time': datetime.date(2020, 7, 31), 'post_url': 'https://www.ptt.cc/bbs/mobilesales/M.1596204977.A.B80.html', 'post_title': '[賣/台南新營/I phone 11 黑128G]'}\n",
            "= = = = = = = = = = = = = = = = = = = = = = = = = = = = = = = = = = = = = = = = = = = = = = = = = = = = = = = = = = = = = = = = = = = = = = = = = = = = = = = = \n",
            "= = = = = = = = = = = = = = = = = = = = = = = = = = = = = = = = = = = = = = = = = = = = = = = = = = = = = = = = = = = = = = = = = = = = = = = = = = = = = = = = \n",
            "{'id': 355, 'post_id': 'M1596547618AC00', 'mobile_name': 'iPhone 11', 'mobile_speci': '128g', 'sale_price': 23000, 'post_time': datetime.date(2020, 8, 4), 'post_url': 'https://www.ptt.cc/bbs/mobilesales/M.1596547618.A.C00.html', 'post_title': '[賣/彰化/面交] iphone 11 128g 白(售出)'}\n",
            "= = = = = = = = = = = = = = = = = = = = = = = = = = = = = = = = = = = = = = = = = = = = = = = = = = = = = = = = = = = = = = = = = = = = = = = = = = = = = = = = \n",
            "= = = = = = = = = = = = = = = = = = = = = = = = = = = = = = = = = = = = = = = = = = = = = = = = = = = = = = = = = = = = = = = = = = = = = = = = = = = = = = = = \n",
            "{'id': 356, 'post_id': 'M1596632734AAF3', 'mobile_name': 'iPhone 11', 'mobile_speci': '128g', 'sale_price': 23000, 'post_time': datetime.date(2020, 8, 5), 'post_url': 'https://www.ptt.cc/bbs/mobilesales/M.1596632734.A.AF3.html', 'post_title': '[賣/雙北/面交] iphone 11 128g 白色'}\n",
            "= = = = = = = = = = = = = = = = = = = = = = = = = = = = = = = = = = = = = = = = = = = = = = = = = = = = = = = = = = = = = = = = = = = = = = = = = = = = = = = = \n",
            "= = = = = = = = = = = = = = = = = = = = = = = = = = = = = = = = = = = = = = = = = = = = = = = = = = = = = = = = = = = = = = = = = = = = = = = = = = = = = = = = \n",
            "{'id': 380, 'post_id': 'M1598195306A1AC', 'mobile_name': 'iPhone 11', 'mobile_speci': '128g', 'sale_price': 22000, 'post_time': datetime.date(2020, 8, 23), 'post_url': 'https://www.ptt.cc/bbs/mobilesales/M.1598195306.A.1AC.html', 'post_title': '[賣/台中/面交] iPhone 11 128G 綠 9.8成新'}\n",
            "= = = = = = = = = = = = = = = = = = = = = = = = = = = = = = = = = = = = = = = = = = = = = = = = = = = = = = = = = = = = = = = = = = = = = = = = = = = = = = = = \n",
            "= = = = = = = = = = = = = = = = = = = = = = = = = = = = = = = = = = = = = = = = = = = = = = = = = = = = = = = = = = = = = = = = = = = = = = = = = = = = = = = = \n",
            "{'id': 388, 'post_id': 'M1598541768A0A9', 'mobile_name': 'iPhone 11', 'mobile_speci': '128g', 'sale_price': 20000, 'post_time': datetime.date(2020, 8, 27), 'post_url': 'https://www.ptt.cc/bbs/mobilesales/M.1598541768.A.0A9.html', 'post_title': '[賣/高屏/皆可] iPhone 11 128G 紫'}\n",
            "= = = = = = = = = = = = = = = = = = = = = = = = = = = = = = = = = = = = = = = = = = = = = = = = = = = = = = = = = = = = = = = = = = = = = = = = = = = = = = = = \n",
            "= = = = = = = = = = = = = = = = = = = = = = = = = = = = = = = = = = = = = = = = = = = = = = = = = = = = = = = = = = = = = = = = = = = = = = = = = = = = = = = = \n",
            "{'id': 393, 'post_id': 'M1598985133A7E6', 'mobile_name': 'iPhone 11', 'mobile_speci': '128g', 'sale_price': 19500, 'post_time': datetime.date(2020, 9, 2), 'post_url': 'https://www.ptt.cc/bbs/mobilesales/M.1598985133.A.7E6.html', 'post_title': '[賣/高雄/面交] iPhone 11 128GB 紫色 iphone11'}\n",
            "= = = = = = = = = = = = = = = = = = = = = = = = = = = = = = = = = = = = = = = = = = = = = = = = = = = = = = = = = = = = = = = = = = = = = = = = = = = = = = = = \n",
            "= = = = = = = = = = = = = = = = = = = = = = = = = = = = = = = = = = = = = = = = = = = = = = = = = = = = = = = = = = = = = = = = = = = = = = = = = = = = = = = = \n",
            "{'id': 399, 'post_id': 'M1599470575AE2C', 'mobile_name': 'iPhone 11', 'mobile_speci': '128g', 'sale_price': 18000, 'post_time': datetime.date(2020, 9, 7), 'post_url': 'https://www.ptt.cc/bbs/mobilesales/M.1599470575.A.E2C.html', 'post_title': '[賣/桃園/面交] IPHONE11 128G 白色'}\n",
            "= = = = = = = = = = = = = = = = = = = = = = = = = = = = = = = = = = = = = = = = = = = = = = = = = = = = = = = = = = = = = = = = = = = = = = = = = = = = = = = = \n"
          ],
          "name": "stdout"
        }
      ]
    },
    {
      "cell_type": "code",
      "metadata": {
        "id": "uFQkQ-WS8cFW"
      },
      "source": [
        ""
      ],
      "execution_count": null,
      "outputs": []
    }
  ]
}