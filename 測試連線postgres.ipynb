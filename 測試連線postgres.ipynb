{
  "nbformat": 4,
  "nbformat_minor": 0,
  "metadata": {
    "colab": {
      "name": "測試連線postgres",
      "provenance": [],
      "authorship_tag": "ABX9TyMjU0+OKm8wBrU4ONhWW8yd",
      "include_colab_link": true
    },
    "kernelspec": {
      "name": "python3",
      "display_name": "Python 3"
    }
  },
  "cells": [
    {
      "cell_type": "markdown",
      "metadata": {
        "id": "view-in-github",
        "colab_type": "text"
      },
      "source": [
        "<a href=\"https://colab.research.google.com/github/shih674/PrivateNote---Python/blob/master/%E6%B8%AC%E8%A9%A6%E9%80%A3%E7%B7%9Apostgres.ipynb\" target=\"_parent\"><img src=\"https://colab.research.google.com/assets/colab-badge.svg\" alt=\"Open In Colab\"/></a>"
      ]
    },
    {
      "cell_type": "code",
      "metadata": {
        "id": "t-uVxy4xlAok",
        "colab_type": "code",
        "colab": {}
      },
      "source": [
        "import psycopg2"
      ],
      "execution_count": null,
      "outputs": []
    },
    {
      "cell_type": "code",
      "metadata": {
        "id": "pdEObLJol3Zc",
        "colab_type": "code",
        "colab": {
          "base_uri": "https://localhost:8080/",
          "height": 34
        },
        "outputId": "5b008229-5c55-4d6f-945e-f7ac0e34acd5"
      },
      "source": [
        "conn = psycopg2.connect(database=\"postgres\", user=\"674\", password=\"thisis2020\", host=\"35.201.150.102\", port=\"5432\")\n",
        "\n",
        "print(\"Opened database successfully\")\n",
        "\n",
        "conn.close()"
      ],
      "execution_count": null,
      "outputs": [
        {
          "output_type": "stream",
          "text": [
            "Opened database successfully\n"
          ],
          "name": "stdout"
        }
      ]
    },
    {
      "cell_type": "markdown",
      "metadata": {
        "id": "mutWhtoAb0qH",
        "colab_type": "text"
      },
      "source": [
        "# CREATE"
      ]
    },
    {
      "cell_type": "code",
      "metadata": {
        "id": "foi6OBLmmV86",
        "colab_type": "code",
        "colab": {
          "base_uri": "https://localhost:8080/",
          "height": 50
        },
        "outputId": "fa5f7227-297a-4817-81d5-d8338925c685"
      },
      "source": [
        "#!/usr/bin/python\n",
        "\n",
        "import psycopg2\n",
        "\n",
        "conn = psycopg2.connect(database=\"0812\", user=\"674\", password=\"thisis2020\", host=\"35.201.150.102\", port=\"5432\")\n",
        "\n",
        "print(\"Opened database successfully\")\n",
        "cur = conn.cursor()\n",
        "\n",
        "cur.execute('INSERT INTO test0 (\"id\",\"name\", \"age\", \"gender_male\") VALUES (2,\\'Sean\\', 20, True )')\n",
        "\n",
        "cur.execute('INSERT INTO test0 (\"id\",\"name\", \"age\", \"gender_male\") VALUES (3,\\'Allen\\', 25, True )')\n",
        "\n",
        "cur.execute('INSERT INTO test0 (\"id\",\"name\", \"age\", \"gender_male\") VALUES (4,\\'Mandy\\', 23, False )')\n",
        "\n",
        "cur.execute('INSERT INTO test0 (\"id\",\"name\", \"age\", \"gender_male\") VALUES (5,\\'Mark\\', 25, True )')\n",
        "\n",
        "conn.commit()\n",
        "print(\"Records created successfully\")\n",
        "conn.close()"
      ],
      "execution_count": null,
      "outputs": [
        {
          "output_type": "stream",
          "text": [
            "Opened database successfully\n",
            "Records created successfully\n"
          ],
          "name": "stdout"
        }
      ]
    },
    {
      "cell_type": "markdown",
      "metadata": {
        "id": "_VKX42e2byUg",
        "colab_type": "text"
      },
      "source": [
        "# READ"
      ]
    },
    {
      "cell_type": "code",
      "metadata": {
        "id": "0tbWNHxNnsc6",
        "colab_type": "code",
        "colab": {
          "base_uri": "https://localhost:8080/",
          "height": 252
        },
        "outputId": "9605e679-45a9-408f-913a-137bb6ef7885"
      },
      "source": [
        "import psycopg2\n",
        "\n",
        "try:\n",
        "    connection = psycopg2.connect(database=\"0812\", user=\"674\", password=\"thisis2020\", host=\"35.201.150.102\", port=\"5432\")\n",
        "\n",
        "    print(\"Opened database successfully\")\n",
        "\n",
        "    cursor = connection.cursor()\n",
        "    postgreSQL_select_Query = \"select * from test0\"\n",
        "\n",
        "    cursor.execute(postgreSQL_select_Query)\n",
        "    print(\"Selecting rows from test table using cursor.fetchall\")\n",
        "    records = cursor.fetchall() \n",
        "\n",
        "    print(\"Print each row and it's columns values\")\n",
        "    for row in records:\n",
        "        #print(\"Id = \", row[0], )\n",
        "        #print(\"Model = \", row[1])\n",
        "        #print(\"Price  = \", row[2], \"\\n\")\n",
        "        print(row, \"\\n\")\n",
        "\n",
        "except (Exception, psycopg2.Error) as error :\n",
        "    print (\"Error while fetching data from PostgreSQL\", error)\n",
        "\n",
        "finally:\n",
        "    #closing database connection.\n",
        "    if(connection):\n",
        "        cursor.close()\n",
        "        connection.close()\n",
        "        print(\"PostgreSQL connection is closed\")"
      ],
      "execution_count": null,
      "outputs": [
        {
          "output_type": "stream",
          "text": [
            "Opened database successfully\n",
            "Selecting rows from test table using cursor.fetchall\n",
            "Print each row and it's columns values\n",
            "(1, 'Paul', 20, True) \n",
            "\n",
            "(2, 'Sean', 20, True) \n",
            "\n",
            "(4, 'Mandy', 23, False) \n",
            "\n",
            "(5, 'Mark', 25, True) \n",
            "\n",
            "(3, 'Jobs', 25, True) \n",
            "\n",
            "PostgreSQL connection is closed\n"
          ],
          "name": "stdout"
        }
      ]
    },
    {
      "cell_type": "markdown",
      "metadata": {
        "id": "wLk4JAiib60l",
        "colab_type": "text"
      },
      "source": [
        "# UPDATE"
      ]
    },
    {
      "cell_type": "code",
      "metadata": {
        "id": "NT-7dQMwbQ3L",
        "colab_type": "code",
        "colab": {
          "base_uri": "https://localhost:8080/",
          "height": 50
        },
        "outputId": "f244b64b-0594-4967-d3fa-d5bf76021aed"
      },
      "source": [
        "#!/usr/bin/python\n",
        "\n",
        "import psycopg2\n",
        "\n",
        "conn = psycopg2.connect(database=\"0812\", user=\"674\", password=\"thisis2020\", host=\"35.201.150.102\", port=\"5432\")\n",
        "\n",
        "print(\"Opened database successfully\")\n",
        "cur = conn.cursor()\n",
        "\n",
        "cur.execute(\"Update test0 set name = 'Jobs' where id = 3\")\n",
        "\n",
        "conn.commit()\n",
        "print(\"Records update successfully\")\n",
        "conn.close()"
      ],
      "execution_count": null,
      "outputs": [
        {
          "output_type": "stream",
          "text": [
            "Opened database successfully\n",
            "Records created successfully\n"
          ],
          "name": "stdout"
        }
      ]
    },
    {
      "cell_type": "code",
      "metadata": {
        "id": "OIifP_sTczRb",
        "colab_type": "code",
        "colab": {}
      },
      "source": [
        ""
      ],
      "execution_count": null,
      "outputs": []
    }
  ]
}